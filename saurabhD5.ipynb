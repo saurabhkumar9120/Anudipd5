{
 "cells": [
  {
   "cell_type": "code",
   "execution_count": null,
   "id": "0626bec2-5337-4287-9f79-b20c4f6d78d9",
   "metadata": {},
   "outputs": [],
   "source": [
    "A toy vendor supplies three types of toys: Battery Based Toys, Key-based\n",
    "Toys, and Electrical Charging Based Toys. The vendor gives a discount of\n",
    "10% on orders for battery-based toys if the order is for more than Rs. 1000.\n",
    "On orders of more than Rs. 100 for key-based toys, a discount of 5% is\n",
    "given, and a discount of 10% is given on orders for electrical charging based\n",
    "toys of value more than Rs. 500. Assume that the numeric codes 1,2 and 3\n",
    "are used for battery based toys, key-based toys, and"
   ]
  },
  {
   "cell_type": "code",
   "execution_count": 77,
   "id": "d519a445-895f-47f8-b19e-fad7811fa062",
   "metadata": {},
   "outputs": [
    {
     "name": "stdin",
     "output_type": "stream",
     "text": [
      "1-Battery Based Toys \n",
      " 2-Key Based Toys \n",
      " 3-Electronic Based Toys \n",
      " Enter Product id 1, 2 or 3 5\n",
      "Enter Amount 25\n"
     ]
    },
    {
     "name": "stdout",
     "output_type": "stream",
     "text": [
      "Invalid Product Id!!!\n"
     ]
    }
   ],
   "source": [
    "prdid=int(input(\"1-Battery Based Toys \\n 2-Key Based Toys \\n 3-Electronic Based Toys \\n Enter Product id 1, 2 or 3\"))\n",
    "amount=float(input(\"Enter Amount\"))\n",
    "if prdid==1:\n",
    "    if amount>=1000:\n",
    "        print(\"Total Paymet After Discount Rs. : \", 0.9*amount)\n",
    "    else:\n",
    "        print(\"No Discount Applyed Total Pay Rs. :\", amount)\n",
    "elif prdid==2:\n",
    "    if amount>=100:\n",
    "        print(\"Total Paymet After Discount Rs. : \", 0.95*amount)\n",
    "    else:\n",
    "        print(\"No Discount Applyed Total Pay Rs. :\", amount)\n",
    "elif prdid==3:\n",
    "    if amount>=500:\n",
    "        print(\"Total Paymet After Discount Rs. : \", 0.9*amount)\n",
    "    else:\n",
    "        print(\"No Discount Applyed Total Pay Rs. :\", amount)\n",
    "else:\n",
    "    print(\"Invalid Product Id!!!\")"
   ]
  },
  {
   "cell_type": "code",
   "execution_count": 18,
   "id": "87a95b6b-f950-4c51-8f41-7a750f534e1b",
   "metadata": {},
   "outputs": [],
   "source": [
    "def greet(name):\n",
    " print(\"hello\", name)\n",
    " print(\"saurabh\", name)\n",
    " print(\"how\", name)\n",
    " print(\"are\", name)\n",
    " print(\"you\",name)"
   ]
  },
  {
   "cell_type": "code",
   "execution_count": 20,
   "id": "5b7b33bf-66cc-41ba-bd1d-e2542345cc10",
   "metadata": {},
   "outputs": [
    {
     "name": "stdout",
     "output_type": "stream",
     "text": [
      "hello SAURABH\n",
      "saurabh SAURABH\n",
      "how SAURABH\n",
      "are SAURABH\n",
      "you SAURABH\n"
     ]
    }
   ],
   "source": [
    "greet(\"SAURABH\")"
   ]
  },
  {
   "cell_type": "code",
   "execution_count": 35,
   "id": "e63403c0-bb09-402a-bf00-47e6428f2283",
   "metadata": {},
   "outputs": [],
   "source": [
    "def sum(a,b,c):\n",
    "    d=a+b+c\n",
    "    return(d)\n"
   ]
  },
  {
   "cell_type": "code",
   "execution_count": 36,
   "id": "38a05792-bcf2-4696-835c-012ae17d6eaf",
   "metadata": {},
   "outputs": [
    {
     "data": {
      "text/plain": [
       "8"
      ]
     },
     "execution_count": 36,
     "metadata": {},
     "output_type": "execute_result"
    }
   ],
   "source": [
    "sum  (2,3,3)"
   ]
  },
  {
   "cell_type": "markdown",
   "id": "9c7dce2b-7029-4e10-9729-3f0919b63d93",
   "metadata": {},
   "source": [
    "##lamda"
   ]
  },
  {
   "cell_type": "code",
   "execution_count": 40,
   "id": "fc9eac5e-2f7d-44c1-bd52-a21fb0b9408d",
   "metadata": {},
   "outputs": [],
   "source": [
    "fun = lambda x: x+2\n"
   ]
  },
  {
   "cell_type": "code",
   "execution_count": 41,
   "id": "a2f2b0f5-3516-444a-9bac-e7860e21f82a",
   "metadata": {},
   "outputs": [
    {
     "name": "stdout",
     "output_type": "stream",
     "text": [
      "12\n"
     ]
    }
   ],
   "source": [
    "print(fun(10))"
   ]
  },
  {
   "cell_type": "code",
   "execution_count": 42,
   "id": "86cc6fb7-6b86-4d72-b47e-7a58148abc4b",
   "metadata": {},
   "outputs": [],
   "source": [
    "##map  function\n"
   ]
  },
  {
   "cell_type": "code",
   "execution_count": 75,
   "id": "88b7342a-9507-4666-991f-6ed1bbd1d189",
   "metadata": {},
   "outputs": [
    {
     "data": {
      "text/plain": [
       "[22, 32, 52, 42]"
      ]
     },
     "execution_count": 75,
     "metadata": {},
     "output_type": "execute_result"
    }
   ],
   "source": [
    "l=[20,30,50,40]\n",
    "list (map(fun,l))"
   ]
  },
  {
   "cell_type": "code",
   "execution_count": null,
   "id": "af69427e-39d9-41eb-90a7-d44fbd868c49",
   "metadata": {},
   "outputs": [],
   "source": []
  },
  {
   "cell_type": "code",
   "execution_count": null,
   "id": "7c354a2f-5367-4674-8ab4-b2b506584df6",
   "metadata": {},
   "outputs": [],
   "source": [
    "#1. Declare a div() function with two parameters. Then call the function and pass twonumbers and display their division.\n",
    "#2. Declare a square() function with one parameter.Then call the function and pass onenumber and display the square of that number ."
   ]
  },
  {
   "cell_type": "code",
   "execution_count": 64,
   "id": "0517850f-d112-46d9-ada3-d8565a921f5e",
   "metadata": {},
   "outputs": [],
   "source": [
    "def div(n1,n2):\n",
    "    return(n1/n2)"
   ]
  },
  {
   "cell_type": "code",
   "execution_count": 65,
   "id": "9032bf59-fce2-4303-a3db-9c6b399af6be",
   "metadata": {},
   "outputs": [
    {
     "data": {
      "text/plain": [
       "2.0"
      ]
     },
     "execution_count": 65,
     "metadata": {},
     "output_type": "execute_result"
    }
   ],
   "source": [
    "div(10,5)"
   ]
  },
  {
   "cell_type": "code",
   "execution_count": 66,
   "id": "9258ef7b-0cf2-4510-a020-8026c3439e54",
   "metadata": {},
   "outputs": [],
   "source": [
    "def div(n1=10,n2=20):\n",
    "    return(n1/n2)"
   ]
  },
  {
   "cell_type": "code",
   "execution_count": 67,
   "id": "5b872568-37e3-4c15-9185-607219a55e1c",
   "metadata": {},
   "outputs": [
    {
     "data": {
      "text/plain": [
       "0.5"
      ]
     },
     "execution_count": 67,
     "metadata": {},
     "output_type": "execute_result"
    }
   ],
   "source": [
    "div()"
   ]
  },
  {
   "cell_type": "code",
   "execution_count": null,
   "id": "12673153-e764-4b37-bd3a-a257f69530cf",
   "metadata": {},
   "outputs": [],
   "source": [
    "#while loop"
   ]
  },
  {
   "cell_type": "code",
   "execution_count": 78,
   "id": "2704247c-7d8c-4c9e-8a3a-9f58dc849df9",
   "metadata": {},
   "outputs": [
    {
     "name": "stdout",
     "output_type": "stream",
     "text": [
      "1\n",
      "2\n",
      "3\n",
      "4\n",
      "5\n",
      "6\n",
      "7\n",
      "8\n",
      "9\n",
      "10\n"
     ]
    }
   ],
   "source": [
    "i =1\n",
    "while i<=10:\n",
    "      print(i)\n",
    "      i+=1"
   ]
  },
  {
   "cell_type": "code",
   "execution_count": null,
   "id": "0282f0c2-d292-4def-9d71-b3e49829a964",
   "metadata": {},
   "outputs": [],
   "source": [
    "# create a table"
   ]
  },
  {
   "cell_type": "code",
   "execution_count": 85,
   "id": "29906cc5-ad74-4a68-90fe-a897cea79b0f",
   "metadata": {},
   "outputs": [
    {
     "name": "stdout",
     "output_type": "stream",
     "text": [
      "2\n",
      "4\n",
      "6\n",
      "8\n",
      "10\n",
      "12\n",
      "14\n",
      "16\n",
      "18\n",
      "20\n"
     ]
    }
   ],
   "source": [
    "i =2\n",
    "while i<=20:\n",
    "      print(i)\n",
    "      i+=2"
   ]
  },
  {
   "cell_type": "code",
   "execution_count": null,
   "id": "53089485-67b2-499b-9b21-ae26e3d58547",
   "metadata": {},
   "outputs": [],
   "source": []
  },
  {
   "cell_type": "code",
   "execution_count": 89,
   "id": "00336d2c-58da-47c5-8bdc-8ff79c0ecdd5",
   "metadata": {},
   "outputs": [
    {
     "name": "stdin",
     "output_type": "stream",
     "text": [
      "enter the number 31\n"
     ]
    },
    {
     "name": "stdout",
     "output_type": "stream",
     "text": [
      "31*2= 62\n",
      "31*3= 93\n",
      "31*4= 124\n",
      "31*5= 155\n",
      "31*6= 186\n",
      "31*7= 217\n",
      "31*8= 248\n",
      "31*9= 279\n",
      "31*10= 310\n"
     ]
    }
   ],
   "source": [
    "n=int(input(\"enter the number\"))\n",
    "i =2\n",
    "while i<=10:\n",
    "      print(f\"{n}*{i}=\",n*i)\n",
    "      i+=1"
   ]
  },
  {
   "cell_type": "code",
   "execution_count": null,
   "id": "a153cfc4-edcb-4541-8faf-79301bc68f37",
   "metadata": {},
   "outputs": [],
   "source": []
  },
  {
   "cell_type": "code",
   "execution_count": null,
   "id": "85b7f15d-531d-49a2-a5da-ec9cb79b08a3",
   "metadata": {},
   "outputs": [],
   "source": []
  },
  {
   "cell_type": "code",
   "execution_count": null,
   "id": "21cadc16-2c5a-4cb2-b9e6-ac91b61f0219",
   "metadata": {},
   "outputs": [],
   "source": [
    "#write to take five number as input find average of the these number  "
   ]
  },
  {
   "cell_type": "code",
   "execution_count": 3,
   "id": "1082f148-4cb3-4014-9ede-978b1e5f7347",
   "metadata": {},
   "outputs": [
    {
     "name": "stdin",
     "output_type": "stream",
     "text": [
      "enter number 50\n",
      "enter number 50\n",
      "enter number 46\n",
      "enter number 9645\n",
      "enter number 52\n"
     ]
    },
    {
     "name": "stdout",
     "output_type": "stream",
     "text": [
      "Average 1968.6\n"
     ]
    }
   ],
   "source": [
    "i =1\n",
    "sum =0\n",
    "while i<=5:\n",
    "    n=int(input(\"enter number\"))\n",
    "    sum = sum+n\n",
    "    i+=1\n",
    "\n",
    "    \n",
    "print(\"Average\",sum/5)\n",
    "      "
   ]
  },
  {
   "cell_type": "code",
   "execution_count": null,
   "id": "3567e4b3-6aca-4cb2-ab89-80346fa60928",
   "metadata": {},
   "outputs": [],
   "source": []
  },
  {
   "cell_type": "code",
   "execution_count": null,
   "id": "1cc9aa45-8ce3-4ca7-b508-988635ffd4b4",
   "metadata": {},
   "outputs": [],
   "source": []
  },
  {
   "cell_type": "code",
   "execution_count": null,
   "id": "745f14eb-b8ed-431c-9ac4-f13cb8ebb484",
   "metadata": {},
   "outputs": [],
   "source": []
  }
 ],
 "metadata": {
  "kernelspec": {
   "display_name": "Python 3 (ipykernel)",
   "language": "python",
   "name": "python3"
  },
  "language_info": {
   "codemirror_mode": {
    "name": "ipython",
    "version": 3
   },
   "file_extension": ".py",
   "mimetype": "text/x-python",
   "name": "python",
   "nbconvert_exporter": "python",
   "pygments_lexer": "ipython3",
   "version": "3.13.3"
  }
 },
 "nbformat": 4,
 "nbformat_minor": 5
}
